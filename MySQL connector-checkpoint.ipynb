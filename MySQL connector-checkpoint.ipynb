{
 "cells": [
  {
   "cell_type": "code",
   "execution_count": 2,
   "id": "f0071604",
   "metadata": {},
   "outputs": [
    {
     "ename": "SyntaxError",
     "evalue": "invalid syntax (Temp/ipykernel_10000/4293161894.py, line 1)",
     "output_type": "error",
     "traceback": [
      "\u001b[1;36m  File \u001b[1;32m\"C:\\Users\\rayon\\AppData\\Local\\Temp/ipykernel_10000/4293161894.py\"\u001b[1;36m, line \u001b[1;32m1\u001b[0m\n\u001b[1;33m    import.mysql.connector\u001b[0m\n\u001b[1;37m          ^\u001b[0m\n\u001b[1;31mSyntaxError\u001b[0m\u001b[1;31m:\u001b[0m invalid syntax\n"
     ]
    }
   ],
   "source": [
    "import.mysql.connector # importing my\n",
    "testdb = mysql.connector.connect(host = \"localhost\",\n",
    "user=\"root\",\n",
    "password=\"Rayone\")\n",
    "testcursor = testdb.cursor() # cursor is intiated to test database\n",
    "testcursor.execute('SHOW DATABASES') # Shows databases\n",
    "for x in testcursor:\n",
    "    print(x) # Prints all the databases \n",
    "    "
   ]
  },
  {
   "cell_type": "code",
   "execution_count": 3,
   "id": "a5a2a966",
   "metadata": {},
   "outputs": [
    {
     "ename": "SyntaxError",
     "evalue": "invalid syntax (Temp/ipykernel_10000/4247085237.py, line 1)",
     "output_type": "error",
     "traceback": [
      "\u001b[1;36m  File \u001b[1;32m\"C:\\Users\\rayon\\AppData\\Local\\Temp/ipykernel_10000/4247085237.py\"\u001b[1;36m, line \u001b[1;32m1\u001b[0m\n\u001b[1;33m    import.mysql.connector # importing my\u001b[0m\n\u001b[1;37m          ^\u001b[0m\n\u001b[1;31mSyntaxError\u001b[0m\u001b[1;31m:\u001b[0m invalid syntax\n"
     ]
    }
   ],
   "source": [
    "import.mysql.connector # Create a database\n",
    "testdb = mysql.connector.connect(host = \"localhost\",\n",
    "user=\"root\",\n",
    "password=\"Rayone\")\n",
    "testcursor = testdb.cursor() # cursor is intiated to test database\n",
    "testcursor.execute('CREATE DATABASES test') # To create a new database"
   ]
  },
  {
   "cell_type": "code",
   "execution_count": null,
   "id": "16da5d4b",
   "metadata": {},
   "outputs": [],
   "source": [
    "import.mysql.connector # Connecting with the database\n",
    "testdb = mysql.connector.connect(host = \"localhost\",\n",
    "user=\"root\",\n",
    "password=\"Rayone\"\n",
    "database = \"test\")"
   ]
  },
  {
   "cell_type": "code",
   "execution_count": null,
   "id": "047527f3",
   "metadata": {},
   "outputs": [],
   "source": [
    "import.mysql.connector # CREATE TABLE\n",
    "testdb = mysql.connector.connect(host = \"localhost\",\n",
    "user=\"root\",\n",
    "password=\"Rayone\"\n",
    "database = \"test\")\n",
    "testcursor = testdbcursor()\n",
    "testcursor.execute(\"CREATE TABLE alumni (roll_no INT, first_name VARCHAR)\")"
   ]
  },
  {
   "cell_type": "code",
   "execution_count": null,
   "id": "4f182cf7",
   "metadata": {},
   "outputs": [],
   "source": [
    "import.mysql.connector # To check no of tables\n",
    "testdb = mysql.connector.connect(host = \"localhost\",\n",
    "user=\"root\",\n",
    "password=\"Rayone\"\n",
    "database = \"test\")\n",
    "testcursor = testdbcursor()\n",
    "testcursor.execute(\"SHOW TABLES\")\n",
    "for i in testcursor:\n",
    "    print (i)"
   ]
  },
  {
   "cell_type": "code",
   "execution_count": null,
   "id": "9c7592a2",
   "metadata": {},
   "outputs": [],
   "source": [
    "import.mysql.connector # To Alter table\n",
    "testdb = mysql.connector.connect(host = \"localhost\",\n",
    "user=\"root\",\n",
    "password=\"Rayone\"\n",
    "database = \"test\")\n",
    "testcursor = testdbcursor()\n",
    "testcursor.execute(\"ALTER TABLE alumni ADD COLUMN test_id INT PRIMARY_KEY\")\n",
    "\n",
    "testcursor.execute(a,b) # where a is defined with fieldnames and b with values\n",
    "testcursor.executemany(a,b) # where b has multiple records to be inserted"
   ]
  },
  {
   "cell_type": "code",
   "execution_count": null,
   "id": "1322bfea",
   "metadata": {},
   "outputs": [],
   "source": [
    "import.mysql.connector # To select data\n",
    "testdb = mysql.connector.connect(host = \"localhost\",\n",
    "user=\"root\",\n",
    "password=\"Rayone\"\n",
    "database = \"test\")\n",
    "testcursor = testdbcursor()\n",
    "testcursor.execute (\"SELECT * FROM ALUMNI\")\n",
    "a = testcursor.fetchall()  #.fetchone() returns first row \n",
    "for b in a:\n",
    "    print(b)\n",
    "    "
   ]
  },
  {
   "cell_type": "code",
   "execution_count": null,
   "id": "e9a0b51d",
   "metadata": {},
   "outputs": [],
   "source": [
    "import.mysql.connector # To select data\n",
    "testdb = mysql.connector.connect(host = \"localhost\",\n",
    "user=\"root\",\n",
    "password=\"Rayone\"\n",
    "database = \"test\")\n",
    "testcursor = testdbcursor()\n",
    "a1 = 'DELETE FROM alumni WHERE test_id =%S'\n",
    "b1 = ('1',)\n",
    "testcursor.execute(a1,b1)\n",
    "testdb.commit\n",
    "\n",
    "# Always pass commit() to connection . testdb.commit() to commit transaction"
   ]
  },
  {
   "cell_type": "code",
   "execution_count": null,
   "id": "9327eabb",
   "metadata": {},
   "outputs": [],
   "source": []
  },
  {
   "cell_type": "code",
   "execution_count": null,
   "id": "84becaab",
   "metadata": {},
   "outputs": [],
   "source": []
  },
  {
   "cell_type": "code",
   "execution_count": null,
   "id": "cc0cf602",
   "metadata": {},
   "outputs": [],
   "source": []
  }
 ],
 "metadata": {
  "kernelspec": {
   "display_name": "Python 3 (ipykernel)",
   "language": "python",
   "name": "python3"
  },
  "language_info": {
   "codemirror_mode": {
    "name": "ipython",
    "version": 3
   },
   "file_extension": ".py",
   "mimetype": "text/x-python",
   "name": "python",
   "nbconvert_exporter": "python",
   "pygments_lexer": "ipython3",
   "version": "3.9.7"
  }
 },
 "nbformat": 4,
 "nbformat_minor": 5
}
