{
 "cells": [
  {
   "cell_type": "code",
   "execution_count": null,
   "id": "e2f614d8",
   "metadata": {},
   "outputs": [],
   "source": [
    "import pandas as pd\n",
    "import matplotlib.pyplot as plt\n",
    "import seaborn as sb"
   ]
  },
  {
   "cell_type": "code",
   "execution_count": 2,
   "id": "35b55075",
   "metadata": {},
   "outputs": [],
   "source": [
    "df1 = pd.read_csv('PS.CSV')"
   ]
  },
  {
   "cell_type": "code",
   "execution_count": null,
   "id": "3106e168",
   "metadata": {},
   "outputs": [],
   "source": [
    "df1"
   ]
  },
  {
   "cell_type": "code",
   "execution_count": null,
   "id": "09bb5ad2",
   "metadata": {},
   "outputs": [],
   "source": [
    "df1_vis = pd.DataFrame(df1.mean())"
   ]
  },
  {
   "cell_type": "code",
   "execution_count": null,
   "id": "0e8a31c3",
   "metadata": {},
   "outputs": [],
   "source": [
    "df1_vis =pd.DataFrame (df1.median())"
   ]
  },
  {
   "cell_type": "code",
   "execution_count": null,
   "id": "3a4e595f",
   "metadata": {},
   "outputs": [],
   "source": []
  },
  {
   "cell_type": "code",
   "execution_count": null,
   "id": "0d887409",
   "metadata": {},
   "outputs": [],
   "source": []
  },
  {
   "cell_type": "code",
   "execution_count": null,
   "id": "e6643797",
   "metadata": {},
   "outputs": [],
   "source": []
  },
  {
   "cell_type": "code",
   "execution_count": null,
   "id": "9e362dfe",
   "metadata": {},
   "outputs": [],
   "source": []
  }
 ],
 "metadata": {
  "kernelspec": {
   "display_name": "Python 3 (ipykernel)",
   "language": "python",
   "name": "python3"
  },
  "language_info": {
   "codemirror_mode": {
    "name": "ipython",
    "version": 3
   },
   "file_extension": ".py",
   "mimetype": "text/x-python",
   "name": "python",
   "nbconvert_exporter": "python",
   "pygments_lexer": "ipython3",
   "version": "3.9.7"
  }
 },
 "nbformat": 4,
 "nbformat_minor": 5
}
