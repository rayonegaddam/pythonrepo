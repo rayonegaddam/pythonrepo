{
 "cells": [
  {
   "cell_type": "markdown",
   "id": "f7cdff5b",
   "metadata": {},
   "source": [
    "## Connecting MySQL connector and querying from SQL database"
   ]
  },
  {
   "cell_type": "markdown",
   "id": "fb0654e8",
   "metadata": {},
   "source": [
    "##### Code for displaying selected 1000 rows of tables (College_A_HS, College_A_SE, College_A_SJ, College_B_HS, College_B_SE, College_B_SJ) with Python."
   ]
  },
  {
   "cell_type": "code",
   "execution_count": 2,
   "id": "d33bbd8e",
   "metadata": {},
   "outputs": [],
   "source": [
    "import mysql.connector\n",
    "testdb=mysql.connector.connect(host=\"localhost\",user=\"root\",password=\"Rayone\",database=\"alumni\")\n",
    "cursordb=testdb.cursor()\n",
    "cursordb.execute(\"select * from college_a_hs limit 1000\")\n",
    "fulldata=cursordb.fetchall()\n",
    "print(\"First 1000 rows table college_a_hs : \")\n",
    "print(\"|\"*100)\n",
    "for i in happy:\n",
    "    print(i)\n",
    "    print(\"-\"*100)"
   ]
  },
  {
   "cell_type": "code",
   "execution_count": null,
   "id": "5af4b09f",
   "metadata": {},
   "outputs": [],
   "source": [
    "testdb=mysql.connector.connect(host=\"localhost\",user=\"root\",password=\"Rayone\",database=\"alumni\")\n",
    "cursordb=testdb.cursor()\n",
    "cursordb.execute(\"select * from college_a_se limit 1000\")\n",
    "fulldata=cursordb.fetchall()\n",
    "print(\"First 1000 rows table college_a_se : \")\n",
    "print(\"|\"*100)\n",
    "for i in happy:\n",
    "    print(i)\n",
    "    print(\"-\"*100)"
   ]
  },
  {
   "cell_type": "code",
   "execution_count": null,
   "id": "cc313531",
   "metadata": {},
   "outputs": [],
   "source": [
    "testdb=mysql.connector.connect(host=\"localhost\",user=\"root\",password=\"Rayone\",database=\"alumni\")\n",
    "cursordb=testdb.cursor()\n",
    "cursordb.execute(\"select * from college_a_sj limit 1000\")\n",
    "fulldata=cursordb.fetchall()\n",
    "print(\"First 1000 rows table college_a_sj : \")\n",
    "print(\"|\"*100)\n",
    "for i in happy:\n",
    "    print(i)\n",
    "    print(\"-\"*100)"
   ]
  },
  {
   "cell_type": "code",
   "execution_count": null,
   "id": "0c532e37",
   "metadata": {},
   "outputs": [],
   "source": [
    "testdb=mysql.connector.connect(host=\"localhost\",user=\"root\",password=\"Rayone\",database=\"alumni\")\n",
    "cursordb=testdb.cursor()\n",
    "cursordb.execute(\"select * from college_b_hs limit 1000\")\n",
    "fulldata=cursordb.fetchall()\n",
    "print(\"The fist 1000 rows table college_b_hs : \")\n",
    "print(\"|\"*100)\n",
    "for i in happy:\n",
    "    print(i)\n",
    "    print(\"-\"*100)"
   ]
  },
  {
   "cell_type": "code",
   "execution_count": null,
   "id": "316ea014",
   "metadata": {},
   "outputs": [],
   "source": [
    "testdb=mysql.connector.connect(host=\"localhost\",user=\"root\",password=\"Rayone\",database=\"alumni\")\n",
    "cursordb=testdb.cursor()\n",
    "cursordb.execute(\"select * from college_b_se limit 1000\")\n",
    "fulldata=cursordb.fetchall()\n",
    "print(\"The fist 1000 rows table college_b_se : \")\n",
    "print(\"|\"*100)\n",
    "for i in happy:\n",
    "    print(i)\n",
    "    print(\"-\"*100)"
   ]
  },
  {
   "cell_type": "code",
   "execution_count": null,
   "id": "39dfa040",
   "metadata": {},
   "outputs": [],
   "source": [
    "testdb=mysql.connector.connect(host=\"localhost\",user=\"root\",password=\"Rayone\",database=\"alumni\")\n",
    "cursordb=testdb.cursor()\n",
    "cursordb.execute(\"select * from college_b_sj limit 1000\")\n",
    "fulldata=cursordb.fetchall()\n",
    "print(\"The fist 1000 rows table college_b_sj : \")\n",
    "print(\"|\"*100)\n",
    "for i in happy:\n",
    "    print(i)\n",
    "    print(\"-\"*100)"
   ]
  }
 ],
 "metadata": {
  "kernelspec": {
   "display_name": "Python 3 (ipykernel)",
   "language": "python",
   "name": "python3"
  },
  "language_info": {
   "codemirror_mode": {
    "name": "ipython",
    "version": 3
   },
   "file_extension": ".py",
   "mimetype": "text/x-python",
   "name": "python",
   "nbconvert_exporter": "python",
   "pygments_lexer": "ipython3",
   "version": "3.9.7"
  }
 },
 "nbformat": 4,
 "nbformat_minor": 5
}
