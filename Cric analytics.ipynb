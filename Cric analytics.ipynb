{
 "cells": [
  {
   "cell_type": "markdown",
   "id": "f176e9e3",
   "metadata": {},
   "source": [
    "## DLS Method"
   ]
  },
  {
   "cell_type": "code",
   "execution_count": 4,
   "id": "b8faab9a",
   "metadata": {},
   "outputs": [
    {
     "name": "stdout",
     "output_type": "stream",
     "text": [
      "131.67\n"
     ]
    }
   ],
   "source": [
    "\n",
    "T1 = 198\n",
    "# T2_par = ?\n",
    "\n",
    "R1 = 100 # % Resource utilized\n",
    "#R2 = (33.5% left)\n",
    "R2 = 66.5\n",
    "\n",
    "#T1/R1 = T2_Par/R2\n",
    "\n",
    "T2_par = (T1*R2)/R1\n",
    "print(T2_par)\n",
    "\n"
   ]
  },
  {
   "cell_type": "markdown",
   "id": "50401557",
   "metadata": {},
   "source": [
    "## NRR calc"
   ]
  },
  {
   "cell_type": "code",
   "execution_count": null,
   "id": "f42ff1ba",
   "metadata": {},
   "outputs": [],
   "source": [
    "# For: No of runs scored/no.of overs by the team in all matches\n",
    "# Against: No of runs scored.no.of overs by all other teams \n",
    "\n",
    "\n",
    "\n"
   ]
  },
  {
   "cell_type": "code",
   "execution_count": 8,
   "id": "43089562",
   "metadata": {},
   "outputs": [
    {
     "data": {
      "text/plain": [
       "0.45531507994336984"
      ]
     },
     "execution_count": 8,
     "metadata": {},
     "output_type": "execute_result"
    }
   ],
   "source": [
    "#CSK NRR\n",
    "(2368/272) - (2218/268.83)"
   ]
  },
  {
   "cell_type": "code",
   "execution_count": 11,
   "id": "976ae251",
   "metadata": {},
   "outputs": [
    {
     "data": {
      "text/plain": [
       "-0.1398867176959646"
      ]
     },
     "execution_count": 11,
     "metadata": {},
     "output_type": "execute_result"
    }
   ],
   "source": [
    "## RCB\n",
    "\n",
    "(2165/273.66)-(2159/268.16)"
   ]
  },
  {
   "cell_type": "code",
   "execution_count": 10,
   "id": "7455b214",
   "metadata": {},
   "outputs": [
    {
     "data": {
      "text/plain": [
       "0.6666666666666666"
      ]
     },
     "execution_count": 10,
     "metadata": {},
     "output_type": "execute_result"
    }
   ],
   "source": [
    "4/6"
   ]
  },
  {
   "cell_type": "code",
   "execution_count": null,
   "id": "e701a821",
   "metadata": {},
   "outputs": [],
   "source": [
    "## Whenever chasing team gets allout by default oversplayed comes to 20\n",
    "# IND 200/10 (20OVERS)\n",
    "# WI 100/10 (15 OVERS) # hERE "
   ]
  },
  {
   "cell_type": "code",
   "execution_count": 1,
   "id": "3450631a",
   "metadata": {},
   "outputs": [],
   "source": [
    "x,y,z = 3,4,5"
   ]
  },
  {
   "cell_type": "code",
   "execution_count": 2,
   "id": "b0e91383",
   "metadata": {},
   "outputs": [
    {
     "name": "stdout",
     "output_type": "stream",
     "text": [
      "3\n"
     ]
    }
   ],
   "source": [
    "print(x)"
   ]
  },
  {
   "cell_type": "code",
   "execution_count": 3,
   "id": "257b7681",
   "metadata": {},
   "outputs": [
    {
     "name": "stdout",
     "output_type": "stream",
     "text": [
      "4\n"
     ]
    }
   ],
   "source": [
    "print(y)"
   ]
  },
  {
   "cell_type": "code",
   "execution_count": null,
   "id": "f21d527e",
   "metadata": {},
   "outputs": [],
   "source": []
  },
  {
   "cell_type": "code",
   "execution_count": null,
   "id": "41cf472b",
   "metadata": {},
   "outputs": [],
   "source": []
  },
  {
   "cell_type": "code",
   "execution_count": null,
   "id": "ef289bbf",
   "metadata": {},
   "outputs": [],
   "source": []
  },
  {
   "cell_type": "code",
   "execution_count": null,
   "id": "5e843ebd",
   "metadata": {},
   "outputs": [],
   "source": []
  }
 ],
 "metadata": {
  "kernelspec": {
   "display_name": "Python 3 (ipykernel)",
   "language": "python",
   "name": "python3"
  },
  "language_info": {
   "codemirror_mode": {
    "name": "ipython",
    "version": 3
   },
   "file_extension": ".py",
   "mimetype": "text/x-python",
   "name": "python",
   "nbconvert_exporter": "python",
   "pygments_lexer": "ipython3",
   "version": "3.9.7"
  }
 },
 "nbformat": 4,
 "nbformat_minor": 5
}
